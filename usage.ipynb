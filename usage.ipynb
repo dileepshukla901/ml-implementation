{
 "cells": [
  {
   "cell_type": "markdown",
   "metadata": {},
   "source": [
    "# Python Implementation for Linear Regression\n",
    "1. Simple linear regression model with OLS and Gradient descent optimization \n",
    "2. Comparision of implemented model performance with SKLearn model. \n",
    "3. Evaluation done using R2 Score "
   ]
  },
  {
   "cell_type": "markdown",
   "metadata": {},
   "source": [
    "### 1. Import libraries "
   ]
  },
  {
   "cell_type": "code",
   "execution_count": 1,
   "metadata": {},
   "outputs": [],
   "source": [
    "import numpy as np\n",
    "import random\n",
    "from sklearn.datasets.samples_generator import make_regression \n",
    "import pylab\n",
    "from scipy import stats\n",
    "import seaborn as sns\n",
    "import matplotlib.pyplot as plt\n",
    "import matplotlib.animation as animation\n",
    "from sklearn.model_selection import train_test_split\n",
    "from sklearn.metrics import r2_score\n",
    "from IPython.display import HTML\n",
    "%matplotlib inline\n",
    "\n",
    "from sklearn.linear_model import LinearRegression  ##for performance comparision"
   ]
  },
  {
   "cell_type": "markdown",
   "metadata": {},
   "source": [
    "### 2. Use dummy data set "
   ]
  },
  {
   "cell_type": "code",
   "execution_count": 2,
   "metadata": {},
   "outputs": [
    {
     "name": "stdout",
     "output_type": "stream",
     "text": [
      "X.shape = (1000, 1) y.shape = (1000,)\n",
      "Initial scatter plot\n"
     ]
    },
    {
     "data": {
      "image/png": "[encoded data removed]",
      "text/plain": [
       "<Figure size 432x288 with 1 Axes>"
      ]
     },
     "metadata": {
      "needs_background": "light"
     },
     "output_type": "display_data"
    }
   ],
   "source": [
    "#Dummy dataset\n",
    "X, y = make_regression(n_samples=1000, n_features=1, n_informative=1, random_state=42, noise=5, bias=10) \n",
    "print ('X.shape = %s y.shape = %s' %(X.shape, y.shape))\n",
    "\n",
    "print (\"Initial scatter plot\")\n",
    "plt.scatter(X[:,0],y)\n",
    "plt.show()"
   ]
  },
  {
   "cell_type": "markdown",
   "metadata": {},
   "source": [
    "### 3. Model Class implementation "
   ]
  },
  {
   "cell_type": "code",
   "execution_count": 3,
   "metadata": {},
   "outputs": [],
   "source": [
    "class LinearRegressionModel:\n",
    "    \"\"\"\n",
    "    Linear Regression Model Class\n",
    "    \n",
    "    \"\"\"\n",
    "    def __init__(self):\n",
    "        pass\n",
    "\n",
    "    def fit(self, X, y, lr = 0.01, n_iters = 1000, Verbose=False, get_para=False, algo='gd'):\n",
    "        self.algo = algo\n",
    "        if (algo == 'gd'):\n",
    "            \"\"\"\n",
    "\n",
    "            Trains a linear regression model using gradient descent\n",
    "\n",
    "            \"\"\"\n",
    "\n",
    "            (n_samples, self.n_features) = X.shape\n",
    "            self.num_sample = n_samples\n",
    "            self.W = np.zeros(shape=(self.n_features,1))\n",
    "            self.b = 0\n",
    "            self.weights = []\n",
    "            self.bias = []\n",
    "            self.X = X\n",
    "            self.y = y\n",
    "            self.costs = []\n",
    "\n",
    "            for i in range(n_iters):\n",
    "                \"\"\"\"\n",
    "                1. Compute y hat\n",
    "                \"\"\"\n",
    "                y_hat = (np.dot(X, self.W) + self.b)[:,0]\n",
    "\n",
    "                \"\"\"\n",
    "                2. find Cost error\n",
    "                \"\"\"\n",
    "                cost = (1 / n_samples) * np.sum((y_hat - y)**2)\n",
    "                self.costs.append(cost)\n",
    "\n",
    "                \"\"\"\n",
    "                3. Verbose: Description of cost at each iteration\n",
    "                \"\"\"\n",
    "                if Verbose == True:\n",
    "                    print(\"Cost at iteration {0}: {1}\".format(i,cost))\n",
    "\n",
    "                \"\"\"\n",
    "                4. Updating the derivative\n",
    "                \"\"\"\n",
    "                dw = (2 / n_samples) * np.dot(X.T, (y_hat - y).reshape(-1,1))\n",
    "                db = (2 / n_samples) * np.sum((y_hat - y)) \n",
    "\n",
    "                \"\"\"\"\n",
    "                5. Updating weights and bias\n",
    "                \"\"\"\n",
    "                self.W = self.W - lr * dw\n",
    "                self.b = self.b - lr * db\n",
    "\n",
    "                \"\"\"\n",
    "                6. Save the weights for visualisation\n",
    "                \"\"\"\n",
    "                self.weights.append(self.W)\n",
    "                self.bias.append(self.b)\n",
    "            print('Training Completed.....')\n",
    "            if get_para == True:\n",
    "                return self.W, self.b, self.costs\n",
    "            \n",
    "        elif(algo == 'ols'):\n",
    "            \n",
    "            (n_samples, self.n_features) = X.shape\n",
    "            self.num_sample = n_samples\n",
    "            self.y = y\n",
    "            \n",
    "            X = np.c_[np.ones((n_samples)), X]\n",
    "            self.X = X\n",
    "            self.W = np.dot(np.dot(np.linalg.inv(np.dot(X.T, X)), X.T), y)\n",
    "            self.b = 0\n",
    "            \n",
    "            print('Training Completed.....')\n",
    "            if get_para == True:\n",
    "                return self.W, self.b\n",
    "\n",
    "    def predict(self, X_test):\n",
    "        \"\"\"\n",
    "        1. Predicting the values by using Linear Regression Model\n",
    "        \"\"\"\n",
    "        if(self.algo == 'ols'):\n",
    "            (n_samples_test, n_feature_test) = X_test.shape\n",
    "            X_test = np.c_[np.ones((n_samples_test)), X_test]\n",
    "            return (np.dot(X_test, self.W))\n",
    "        elif(self.algo == 'gd'):  \n",
    "            return (np.dot(X_test, self.W)+self.b)[:,0]\n",
    "    def plot_cost(self):\n",
    "        \"\"\"\n",
    "        1. Plotting cost with each iteration \n",
    "        \"\"\"\n",
    "        if(self.algo == 'gd'):\n",
    "            #Plot the cost function...\n",
    "            plt.title('Cost Function J')\n",
    "            plt.xlabel('No. of iterations')\n",
    "            plt.ylabel('Cost')\n",
    "            plt.plot(self.costs)\n",
    "            plt.show()\n",
    "        elif(self.algo == 'ols'):\n",
    "            print('Can not print cost while algo = \"ols\"')\n",
    "\n",
    "    def plotLine(self):\n",
    "        if(self.algo == 'gd'):\n",
    "            max_x = np.max(self.X[:,0])\n",
    "            min_x = np.min(self.X[:,0])\n",
    "\n",
    "            xplot = np.linspace(min_x, max_x, self.num_sample)\n",
    "            yplot = self.b + self.W[0] * xplot\n",
    "\n",
    "            plt.plot(xplot, yplot, color='#58b970', label='Regression Line')\n",
    "\n",
    "            plt.title('Visualise line fit')\n",
    "            plt.xlabel('X')\n",
    "            plt.ylabel('y')\n",
    "            plt.scatter(self.X[:,0],self.y)\n",
    "            plt.show()\n",
    "        elif(self.algo == 'ols'):\n",
    "            max_x = np.max(self.X[:,1])\n",
    "            min_x = np.min(self.X[:,1])\n",
    "\n",
    "            xplot = np.linspace(min_x, max_x, self.num_sample)\n",
    "            yplot = self.W[0] + self.W[1] * xplot\n",
    "\n",
    "            plt.plot(xplot, yplot, color='#58b970', label='Regression Line')\n",
    "\n",
    "            plt.title('Visualise line fit')\n",
    "            plt.xlabel('X')\n",
    "            plt.ylabel('y')\n",
    "            plt.scatter(self.X[:,1],self.y)\n",
    "            plt.show()"
   ]
  },
  {
   "cell_type": "markdown",
   "metadata": {},
   "source": [
    "### 4. Train - Test split for performance check "
   ]
  },
  {
   "cell_type": "code",
   "execution_count": 4,
   "metadata": {},
   "outputs": [
    {
     "name": "stdout",
     "output_type": "stream",
     "text": [
      "X-Train Data,Number of Features: (800, 1)\n",
      "y_train Data,Number of Features: (800,)\n",
      "X_test Data,Number of Features: (200, 1)\n",
      "y_test Data,Number of Features: (200,)\n"
     ]
    }
   ],
   "source": [
    "X_train, X_test, y_train, y_test = train_test_split(X, y, test_size=0.2, random_state=42)\n",
    "\n",
    "print(\"X-Train Data,Number of Features: {}\".format(X_train.shape))\n",
    "print(\"y_train Data,Number of Features: {}\".format(y_train.shape))\n",
    "print(\"X_test Data,Number of Features: {}\".format(X_test.shape))\n",
    "print(\"y_test Data,Number of Features: {}\".format(y_test.shape))"
   ]
  },
  {
   "cell_type": "markdown",
   "metadata": {},
   "source": [
    "### 5. Train using implemented model "
   ]
  },
  {
   "cell_type": "code",
   "execution_count": 11,
   "metadata": {},
   "outputs": [
    {
     "name": "stdout",
     "output_type": "stream",
     "text": [
      "Training Completed.....\n"
     ]
    }
   ],
   "source": [
    "model = LinearRegressionModel()\n",
    "\n",
    "model.fit(X_train, y_train, n_iters = 1000, algo='gd')"
   ]
  },
  {
   "cell_type": "code",
   "execution_count": 12,
   "metadata": {},
   "outputs": [
    {
     "name": "stdout",
     "output_type": "stream",
     "text": [
      "Train R2: 0.9165963474945489\n",
      "Test R2: 0.9131254978433995\n"
     ]
    }
   ],
   "source": [
    "train_pred = model.predict(X_train)\n",
    "test_pred = model.predict(X_test)\n",
    "\n",
    "train_r2 = r2_score(y_train, train_pred)\n",
    "test_r2 = r2_score(y_test, test_pred)\n",
    "\n",
    "print('Train R2:', train_r2)\n",
    "print('Test R2:', test_r2)"
   ]
  },
  {
   "cell_type": "code",
   "execution_count": 13,
   "metadata": {},
   "outputs": [
    {
     "data": {
      "image/png": "[encoded data removed]",
      "text/plain": [
       "<Figure size 432x288 with 1 Axes>"
      ]
     },
     "metadata": {
      "needs_background": "light"
     },
     "output_type": "display_data"
    }
   ],
   "source": [
    "model.plot_cost()"
   ]
  },
  {
   "cell_type": "code",
   "execution_count": 8,
   "metadata": {},
   "outputs": [
    {
     "data": {
      "image/png": "[encoded data removed]",
      "text/plain": [
       "<Figure size 432x288 with 1 Axes>"
      ]
     },
     "metadata": {
      "needs_background": "light"
     },
     "output_type": "display_data"
    }
   ],
   "source": [
    "model.plotLine()"
   ]
  },
  {
   "cell_type": "markdown",
   "metadata": {},
   "source": [
    "### 6. Train using sklearn model  "
   ]
  },
  {
   "cell_type": "code",
   "execution_count": 9,
   "metadata": {},
   "outputs": [
    {
     "name": "stdout",
     "output_type": "stream",
     "text": [
      "Train R2: 0.916596347494549\n",
      "Test R2: 0.9131254977291062\n"
     ]
    }
   ],
   "source": [
    "from sklearn.linear_model import LinearRegression\n",
    "\n",
    "reg_ = LinearRegression()\n",
    "\n",
    "reg_.fit(X_train, y_train)\n",
    "    \n",
    "train_pred = reg_.predict(X_train)\n",
    "test_pred = reg_.predict(X_test)\n",
    "\n",
    "train_r2 = r2_score(y_train, train_pred)\n",
    "test_r2 = r2_score(y_test, test_pred)\n",
    "\n",
    "print('Train R2:', train_r2)\n",
    "print('Test R2:', test_r2)"
   ]
  },
  {
   "cell_type": "code",
   "execution_count": 10,
   "metadata": {},
   "outputs": [
    {
     "name": "stdout",
     "output_type": "stream",
     "text": [
      "Train R2: 0.9165961864158326\n",
      "Test R2: 0.913126568962511\n"
     ]
    }
   ],
   "source": [
    "from sklearn.linear_model import SGDRegressor\n",
    "\n",
    "sgdreg_ = SGDRegressor()\n",
    "\n",
    "sgdreg_.fit(X_train, y_train)\n",
    "    \n",
    "train_pred = sgdreg_.predict(X_train)\n",
    "test_pred = sgdreg_.predict(X_test)\n",
    "\n",
    "train_r2 = r2_score(y_train, train_pred)\n",
    "test_r2 = r2_score(y_test, test_pred)\n",
    "\n",
    "print('Train R2:', train_r2)\n",
    "print('Test R2:', test_r2)"
   ]
  },
  {
   "cell_type": "markdown",
   "metadata": {},
   "source": [
    "-----"
   ]
  }
 ],
 "metadata": {
  "kernelspec": {
   "display_name": "Python 3",
   "language": "python",
   "name": "python3"
  },
  "language_info": {
   "codemirror_mode": {
    "name": "ipython",
    "version": 3
   },
   "file_extension": ".py",
   "mimetype": "text/x-python",
   "name": "python",
   "nbconvert_exporter": "python",
   "pygments_lexer": "ipython3",
   "version": "3.7.4"
  }
 },
 "nbformat": 4,
 "nbformat_minor": 2
}
